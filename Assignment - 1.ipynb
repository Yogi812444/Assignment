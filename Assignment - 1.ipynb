{
 "cells": [
  {
   "cell_type": "code",
   "execution_count": null,
   "id": "55e09004",
   "metadata": {},
   "outputs": [],
   "source": [
    "Assignment-1\n",
    "\n",
    "1. In the below elements which of them are values or an expression? eg:- values can be\n",
    "integer or string and expressions will be mathematical operators.\n",
    "*\n",
    "'hello'\n",
    "-87.8\n",
    "-\n",
    "/\n",
    "+\n",
    "6"
   ]
  },
  {
   "cell_type": "code",
   "execution_count": null,
   "id": "5e73342f",
   "metadata": {},
   "outputs": [],
   "source": [
    "Values - 6,-87.8,'hello'\n",
    "expression - *,-,/,+"
   ]
  },
  {
   "cell_type": "code",
   "execution_count": null,
   "id": "8927afc4",
   "metadata": {},
   "outputs": [],
   "source": [
    "2. What is the difference between string and variable?\n",
    "\n",
    "Ans:\n",
    "    1)Strings are the group of words or letters which are enclosed by the single quotes'' or the double quotes \"\". whereas \n",
    "    the variables are the integers,float,double,strings,boolean,etc,...\n",
    "    \n",
    "    2)Example for strings - 'Hello World', \"Welcome\"\n",
    "      Example for variable - 23,45.6,True,False,\"Yogi\""
   ]
  },
  {
   "cell_type": "code",
   "execution_count": null,
   "id": "ec39c5a8",
   "metadata": {},
   "outputs": [],
   "source": [
    "3. Describe three different data types.\n",
    "\n",
    "Ans:\n",
    "    The three different data types are Integer,Float,String,Boolean,etc,..."
   ]
  },
  {
   "cell_type": "code",
   "execution_count": null,
   "id": "b0cb6bde",
   "metadata": {},
   "outputs": [],
   "source": [
    "4.What is an expression made up of? What do all expressions do?\n",
    "\n",
    "Ans:\n",
    "    Expressions are made of combination of values,variables,operators and calls to a funtion. Expression needs to be \n",
    "    evaluated.to print an expression, the interpreter evaluates the expression and displays the result.\n",
    "    An example of expression can be : x = x + 1 0 x = x + 10 x=x+10."
   ]
  },
  {
   "cell_type": "code",
   "execution_count": null,
   "id": "3b54d01d",
   "metadata": {},
   "outputs": [],
   "source": [
    "5. This assignment statements, like spam = 10. What is the difference between an\n",
    "expression and a statement?\n",
    "\n",
    "Ans:\n",
    "    Expressions are unique in meaning, while statements are two-sided in execution. For example, 1 has a certain \n",
    "    value while go( ) may be executed or not. Statements are the whole structure, while expressions are the building \n",
    "    blocks. For example, a line or a block of code is a statement."
   ]
  },
  {
   "cell_type": "code",
   "execution_count": 1,
   "id": "d8a4bdfb",
   "metadata": {},
   "outputs": [
    {
     "name": "stdout",
     "output_type": "stream",
     "text": [
      "Object `contain` not found.\n"
     ]
    },
    {
     "data": {
      "text/plain": [
       "23"
      ]
     },
     "execution_count": 1,
     "metadata": {},
     "output_type": "execute_result"
    }
   ],
   "source": [
    "6. After running the following code, what does the variable bacon contain?\n",
    "bacon = 22\n",
    "bacon + 1"
   ]
  },
  {
   "cell_type": "code",
   "execution_count": null,
   "id": "31284fa6",
   "metadata": {},
   "outputs": [],
   "source": [
    "Ans : 23"
   ]
  },
  {
   "cell_type": "code",
   "execution_count": null,
   "id": "fa12cba8",
   "metadata": {},
   "outputs": [],
   "source": [
    "7. What should the values of the following two terms be?"
   ]
  },
  {
   "cell_type": "code",
   "execution_count": 3,
   "id": "c8460167",
   "metadata": {},
   "outputs": [
    {
     "data": {
      "text/plain": [
       "'spamspamspam'"
      ]
     },
     "execution_count": 3,
     "metadata": {},
     "output_type": "execute_result"
    }
   ],
   "source": [
    "'spam' + 'spamspam'"
   ]
  },
  {
   "cell_type": "code",
   "execution_count": 4,
   "id": "67fcee58",
   "metadata": {},
   "outputs": [
    {
     "data": {
      "text/plain": [
       "'spamspamspam'"
      ]
     },
     "execution_count": 4,
     "metadata": {},
     "output_type": "execute_result"
    }
   ],
   "source": [
    "'spam'*3"
   ]
  },
  {
   "cell_type": "code",
   "execution_count": null,
   "id": "da0aca58",
   "metadata": {},
   "outputs": [],
   "source": [
    "8. Why is eggs a valid variable name while 100 is invalid?\n",
    "\n",
    "Ans:\n",
    "    Variable names should not start with a number."
   ]
  },
  {
   "cell_type": "code",
   "execution_count": null,
   "id": "3ad7b5bf",
   "metadata": {},
   "outputs": [],
   "source": [
    "9. What three functions can be used to get the integer, floating-point number, or string\n",
    "version of a value?\n",
    "\n",
    "Ans:\n",
    "    int(),float(),str() these are the three functions can be used to get the integer, floating-point number, or string\n",
    "version of a value"
   ]
  },
  {
   "cell_type": "code",
   "execution_count": 7,
   "id": "242a1da0",
   "metadata": {},
   "outputs": [
    {
     "name": "stdout",
     "output_type": "stream",
     "text": [
      "Object `it` not found.\n"
     ]
    },
    {
     "data": {
      "text/plain": [
       "'I have eaten 99 burritos'"
      ]
     },
     "execution_count": 7,
     "metadata": {},
     "output_type": "execute_result"
    }
   ],
   "source": [
    "10. Why does this expression cause an error? How can you fix it?\n",
    "'I have eaten' + ' 99 ' + 'burritos'"
   ]
  },
  {
   "cell_type": "code",
   "execution_count": null,
   "id": "1805c525",
   "metadata": {},
   "outputs": [],
   "source": [
    "Ans:\n",
    "    String concatinate function only concatinate the string variables not the other variable types. If we want to\n",
    "    concatinate the integer or float, we must convert into string then we can concatinate the values."
   ]
  }
 ],
 "metadata": {
  "kernelspec": {
   "display_name": "Python 3 (ipykernel)",
   "language": "python",
   "name": "python3"
  },
  "language_info": {
   "codemirror_mode": {
    "name": "ipython",
    "version": 3
   },
   "file_extension": ".py",
   "mimetype": "text/x-python",
   "name": "python",
   "nbconvert_exporter": "python",
   "pygments_lexer": "ipython3",
   "version": "3.9.13"
  }
 },
 "nbformat": 4,
 "nbformat_minor": 5
}
